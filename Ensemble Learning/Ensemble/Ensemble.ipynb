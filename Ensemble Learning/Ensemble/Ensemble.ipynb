{
 "cells": [
  {
   "cell_type": "markdown",
   "metadata": {},
   "source": [
    "## **Ensemble**"
   ]
  },
  {
   "cell_type": "markdown",
   "metadata": {},
   "source": [
    "- **Wisdom of the Crowd:**\n",
    "    - Aggregating the decisions or predictions of multiple individuals (or models) often leads to a better solution than relying on a single expert or predictor.\n",
    "\n",
    "- **What is an Ensemble?**\n",
    "    - A group of predictors (e.g., classifiers or regressors) combined to improve overall predictions.\n",
    "    - Predictions are aggregated (e.g., by voting or averaging) to get a better final prediction.\n",
    "\n",
    "- **Why Use Ensemble Learning?**\n",
    "    - Reduces variance (by averaging predictions).\n",
    "    - Reduces bias (through combining diverse models).\n",
    "    - Improves generalization and robustness of predictions.\n",
    "\n",
    "- **Practical Applications:**\n",
    "    - Often used at the final stage of a project to improve performance.\n",
    "    - Common in competitive machine learning, such as Kaggle or Netflix Prize.\n",
    "\n",
    "- **Types of Ensemble Learning:**\n",
    "    1) Voting\n",
    "    2) Bagging and Pasting\n",
    "        - Random Forest\n",
    "    3) Boosting\n",
    "        - Ada Boost\n",
    "        - Gradient Boost\n",
    "        - Xg Boost\n",
    "    4) Stacking"
   ]
  }
 ],
 "metadata": {
  "language_info": {
   "name": "python"
  }
 },
 "nbformat": 4,
 "nbformat_minor": 2
}
